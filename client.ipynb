{
 "cells": [
  {
   "cell_type": "code",
   "execution_count": null,
   "id": "204bc41c",
   "metadata": {},
   "outputs": [
    {
     "name": "stdout",
     "output_type": "stream",
     "text": [
      "Number of DNS queries found:  23\n"
     ]
    }
   ],
   "source": [
    "# For this assignment we have used the scapy library to analyse the network packets\n",
    "from scapy.all import *\n",
    "\n",
    "\n",
    "# we are reading the pcap file using rdpcap function from scapy\n",
    "packets=rdpcap(\"1.pcap\")\n",
    "\n",
    "\n",
    "dns_queries=[]\n",
    "\n",
    "for p in packets: # iterating through each packet to check if it has a dns header or not\n",
    "    if p.haslayer(DNS) and p[DNS].qr==0:\n",
    "        dns_queries.append(p)\n",
    "\n",
    "print(\"Number of DNS queries found: \", len(dns_queries))\n"
   ]
  },
  {
   "cell_type": "code",
   "execution_count": null,
   "id": "b4dd55c7",
   "metadata": {},
   "outputs": [],
   "source": [
    "import datetime\n",
    "\n",
    "# made a custom header for that HHMMSSID field\n",
    "class DNSHeader(Packet):\n",
    "    name=\"DNSHeader\"\n",
    "    fields_desc=[StrFixedLenField(\"timestamp_id\", \"\", 8)]\n",
    "\n",
    "now = datetime.datetime.now() # getting current time\n",
    "id = 0\n",
    "modified_packets=[] # another list to save the modified packets\n",
    "\n",
    "for query in dns_queries:\n",
    "    if len(str(id))==1: #condition to add leading zero\n",
    "        id_str='0'+str(id)\n",
    "    else:\n",
    "        id_str=str(id)\n",
    "    \n",
    "    header_value_string=now.strftime(\"%H%M%S\")+id_str #making the string of that header\n",
    "    id += 1 #incrementing the id\n",
    "\n",
    "\n",
    "    header_value=header_value_string.encode('utf-8') #converting header string to bytes\n",
    "\n",
    "    #appending the header at the beginning of the query\n",
    "    packet_with_header=DNSHeader(timestamp_id=header_value)/query\n",
    "    modified_packets.append(packet_with_header)"
   ]
  },
  {
   "cell_type": "code",
   "execution_count": null,
   "id": "17795b70",
   "metadata": {},
   "outputs": [
    {
     "name": "stdout",
     "output_type": "stream",
     "text": [
      "Connecting to the server at IP 127.0.0.1 at port 9999\n",
      "server responded with IP  192.168.1.6\n",
      "\n",
      "Connecting to the server at IP 127.0.0.1 at port 9999\n",
      "server responded with IP  192.168.1.7\n",
      "\n"
     ]
    },
    {
     "name": "stdout",
     "output_type": "stream",
     "text": [
      "Connecting to the server at IP 127.0.0.1 at port 9999\n",
      "server responded with IP  192.168.1.8\n",
      "\n",
      "Connecting to the server at IP 127.0.0.1 at port 9999\n",
      "server responded with IP  192.168.1.9\n",
      "\n",
      "Connecting to the server at IP 127.0.0.1 at port 9999\n",
      "server responded with IP  192.168.1.10\n",
      "\n",
      "Connecting to the server at IP 127.0.0.1 at port 9999\n",
      "server responded with IP  192.168.1.6\n",
      "\n",
      "Connecting to the server at IP 127.0.0.1 at port 9999\n",
      "server responded with IP  192.168.1.7\n",
      "\n",
      "Connecting to the server at IP 127.0.0.1 at port 9999\n",
      "server responded with IP  192.168.1.8\n",
      "\n",
      "Connecting to the server at IP 127.0.0.1 at port 9999\n",
      "server responded with IP  192.168.1.9\n",
      "\n",
      "Connecting to the server at IP 127.0.0.1 at port 9999\n",
      "server responded with IP  192.168.1.10\n",
      "\n",
      "Connecting to the server at IP 127.0.0.1 at port 9999\n",
      "server responded with IP  192.168.1.6\n",
      "\n",
      "Connecting to the server at IP 127.0.0.1 at port 9999\n",
      "server responded with IP  192.168.1.7\n",
      "\n",
      "Connecting to the server at IP 127.0.0.1 at port 9999\n",
      "server responded with IP  192.168.1.8\n",
      "\n",
      "Connecting to the server at IP 127.0.0.1 at port 9999\n",
      "server responded with IP  192.168.1.9\n",
      "\n",
      "Connecting to the server at IP 127.0.0.1 at port 9999\n",
      "server responded with IP  192.168.1.10\n",
      "\n",
      "Connecting to the server at IP 127.0.0.1 at port 9999\n",
      "server responded with IP  192.168.1.6\n",
      "\n",
      "Connecting to the server at IP 127.0.0.1 at port 9999\n",
      "server responded with IP  192.168.1.7\n",
      "\n",
      "Connecting to the server at IP 127.0.0.1 at port 9999\n",
      "server responded with IP  192.168.1.8\n",
      "\n",
      "Connecting to the server at IP 127.0.0.1 at port 9999\n",
      "server responded with IP  192.168.1.9\n",
      "\n",
      "Connecting to the server at IP 127.0.0.1 at port 9999\n",
      "server responded with IP  192.168.1.10\n",
      "\n",
      "Connecting to the server at IP 127.0.0.1 at port 9999\n",
      "server responded with IP  192.168.1.6\n",
      "\n",
      "Connecting to the server at IP 127.0.0.1 at port 9999\n",
      "server responded with IP  192.168.1.7\n",
      "\n",
      "Connecting to the server at IP 127.0.0.1 at port 9999\n",
      "server responded with IP  192.168.1.8\n",
      "\n"
     ]
    }
   ],
   "source": [
    "import socket\n",
    "\n",
    "Server_ip_address=\"127.0.0.1\" # local host\n",
    "Server_port=9999 # can put any but should be same as of that server\n",
    "\n",
    "#packet_to_sent=modified_packets[6]\n",
    "\n",
    "#made a csv file and added header\n",
    "with open(\"final_report.csv\", 'w') as f:\n",
    "    f.write(\"Header Value,Domain Name,Resolved IP address\\n\")\n",
    "\n",
    "    for p in modified_packets: # iterating through each modified packet\n",
    "\n",
    "        # socket.socket(socket.AF_INET, socket.SOCK_STREAM) makes a new IPv4 TCP socket\n",
    "        with socket.socket(socket.AF_INET, socket.SOCK_STREAM) as s:\n",
    "            print(f\"Connecting to the server at IP {Server_ip_address} at port {Server_port}\")\n",
    "            s.connect((Server_ip_address, Server_port)) # making the connection with server\n",
    "            s.sendall(bytes(p)) # sending data\n",
    "            response=s.recv(1024) # getting the response\n",
    "\n",
    "            print(\"server responded with IP \", response.decode())\n",
    "\n",
    "            # writing each response to the csv file\n",
    "            f.write(f\"{p[DNSHeader].timestamp_id.decode()}, {p[DNSQR].qname.decode()}, {response.decode()}\\n\")\n",
    "            print()\n"
   ]
  }
 ],
 "metadata": {
  "kernelspec": {
   "display_name": "Python 3",
   "language": "python",
   "name": "python3"
  },
  "language_info": {
   "codemirror_mode": {
    "name": "ipython",
    "version": 3
   },
   "file_extension": ".py",
   "mimetype": "text/x-python",
   "name": "python",
   "nbconvert_exporter": "python",
   "pygments_lexer": "ipython3",
   "version": "3.11.5"
  }
 },
 "nbformat": 4,
 "nbformat_minor": 5
}
